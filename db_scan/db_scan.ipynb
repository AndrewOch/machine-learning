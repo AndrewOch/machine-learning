{
 "cells": [
  {
   "cell_type": "code",
   "execution_count": 1,
   "metadata": {
    "collapsed": true,
    "ExecuteTime": {
     "end_time": "2023-10-15T12:49:02.744261Z",
     "start_time": "2023-10-15T12:49:02.482645Z"
    }
   },
   "outputs": [
    {
     "name": "stdout",
     "output_type": "stream",
     "text": [
      "pygame 2.5.2 (SDL 2.28.3, Python 3.9.6)\n",
      "Hello from the pygame community. https://www.pygame.org/contribute.html\n"
     ]
    }
   ],
   "source": [
    "import pygame\n",
    "import numpy as np\n",
    "from point import Point"
   ]
  },
  {
   "cell_type": "code",
   "execution_count": 2,
   "outputs": [],
   "source": [
    "def count_clusters(points):\n",
    "    clusters = set()\n",
    "    for p in points:\n",
    "        if p.cluster is not None:\n",
    "            clusters.add(p.cluster)\n",
    "    return len(clusters)"
   ],
   "metadata": {
    "collapsed": false,
    "ExecuteTime": {
     "end_time": "2023-10-15T12:49:02.756101Z",
     "start_time": "2023-10-15T12:49:02.741446Z"
    }
   }
  },
  {
   "cell_type": "code",
   "execution_count": 3,
   "outputs": [],
   "source": [
    "def redraw(points):\n",
    "    for p in points:\n",
    "        if p.cluster is not None:\n",
    "            color = [100 * (p.cluster + 1) % 256,\n",
    "                     200 * (p.cluster + 1) % 256,\n",
    "                     300 * (p.cluster + 1) % 256]\n",
    "            pygame.draw.circle(screen, color=color, center=[p.x, p.y], radius=2)\n",
    "        else:\n",
    "            pygame.draw.circle(screen, color=\"#000000\", center=[p.x, p.y], radius=2)\n",
    "    pygame.display.set_caption(f'Cluster count: {count_clusters(points)}')\n",
    "    pygame.display.update()"
   ],
   "metadata": {
    "collapsed": false,
    "ExecuteTime": {
     "end_time": "2023-10-15T12:49:02.756386Z",
     "start_time": "2023-10-15T12:49:02.749345Z"
    }
   }
  },
  {
   "cell_type": "code",
   "execution_count": 4,
   "outputs": [],
   "source": [
    "def dist(a, b):\n",
    "    return np.sqrt((a.x - b.x) ** 2 + (a.y - b.y) ** 2)"
   ],
   "metadata": {
    "collapsed": false,
    "ExecuteTime": {
     "end_time": "2023-10-15T12:49:02.775702Z",
     "start_time": "2023-10-15T12:49:02.756025Z"
    }
   }
  },
  {
   "cell_type": "code",
   "execution_count": 5,
   "outputs": [],
   "source": [
    "def clear_clusters(points):\n",
    "    for p in points:\n",
    "        p.cluster = None\n",
    "    return points"
   ],
   "metadata": {
    "collapsed": false,
    "ExecuteTime": {
     "end_time": "2023-10-15T12:49:02.785829Z",
     "start_time": "2023-10-15T12:49:02.764478Z"
    }
   }
  },
  {
   "cell_type": "code",
   "execution_count": 6,
   "outputs": [],
   "source": [
    "def find_neighbours(origin, points, epsilon=20):\n",
    "    neighbours = set()\n",
    "    for b in points:\n",
    "        if dist(origin, b) <= epsilon:\n",
    "            neighbours.add(b)\n",
    "    return neighbours"
   ],
   "metadata": {
    "collapsed": false,
    "ExecuteTime": {
     "end_time": "2023-10-15T12:49:02.786333Z",
     "start_time": "2023-10-15T12:49:02.769435Z"
    }
   }
  },
  {
   "cell_type": "code",
   "execution_count": 7,
   "outputs": [],
   "source": [
    "def dbscan(points, min_neighbours_count=2, epsilon=20):\n",
    "    clusters_count = 0\n",
    "    checked_points = []\n",
    "    searchable_points = clear_clusters(points).copy()\n",
    "    green_points = []\n",
    "    yellow_points = []\n",
    "    while len(searchable_points) > 0:\n",
    "        point = searchable_points[0]\n",
    "        searchable_points.remove(point)\n",
    "        checked_points.append(point)\n",
    "        neighbours = find_neighbours(point, searchable_points, epsilon)\n",
    "        if len(neighbours) == 0:\n",
    "            continue\n",
    "        if len(neighbours) >= min_neighbours_count:\n",
    "            point.cluster = clusters_count\n",
    "            clusters_count += 1\n",
    "            green_points.append(point)\n",
    "            checked_neighbours = set()\n",
    "            checked_neighbours.add(point)\n",
    "            while len(neighbours) > 0:\n",
    "                n = neighbours.pop()\n",
    "                checked_neighbours.add(n)\n",
    "                if searchable_points.__contains__(n):\n",
    "                    checked_points.append(n)\n",
    "                    searchable_points.remove(n)\n",
    "                n.cluster = point.cluster\n",
    "                new_neighbours = find_neighbours(n, searchable_points, epsilon)\n",
    "                neighbours |= new_neighbours.difference(checked_neighbours)\n",
    "                if len(new_neighbours) >= min_neighbours_count:\n",
    "                    green_points.append(n)\n",
    "        else:\n",
    "            yellow_points.append(point)\n",
    "\n",
    "    for a in yellow_points:\n",
    "        for b in green_points:\n",
    "            if dist(a, b) <= epsilon:\n",
    "                a.cluster = b.cluster\n",
    "                break\n",
    "    redraw(checked_points)\n",
    "    return checked_points"
   ],
   "metadata": {
    "collapsed": false,
    "ExecuteTime": {
     "end_time": "2023-10-15T12:49:02.786790Z",
     "start_time": "2023-10-15T12:49:02.780710Z"
    }
   }
  },
  {
   "cell_type": "code",
   "execution_count": null,
   "outputs": [
    {
     "name": "stdout",
     "output_type": "stream",
     "text": [
      "247\n",
      "337\n",
      "338\n",
      "371\n",
      "372\n",
      "373\n",
      "374\n"
     ]
    }
   ],
   "source": [
    "pygame.init()\n",
    "screen = pygame.display.set_mode((600, 400))\n",
    "flag = True\n",
    "screen.fill(color=\"#ffffff\")\n",
    "pygame.display.update()\n",
    "drawing = False\n",
    "points = []\n",
    "while flag:\n",
    "    for event in pygame.event.get():\n",
    "        if event.type == pygame.QUIT:\n",
    "            flag = False\n",
    "            break\n",
    "        if event.type == pygame.KEYDOWN:\n",
    "            if event.key == 13:\n",
    "                points = dbscan(points)\n",
    "        if event.type == pygame.MOUSEBUTTONDOWN:\n",
    "            if event.button == 1:\n",
    "                drawing = True\n",
    "        if event.type == pygame.MOUSEBUTTONUP:\n",
    "            if event.button == 1:\n",
    "                drawing = False\n",
    "        if drawing:\n",
    "            coords = event.pos\n",
    "            points.append(Point(coords[0], coords[1]))\n",
    "            pygame.draw.circle(screen, color=\"#000000\", center=coords, radius=2)\n",
    "            pygame.display.update()"
   ],
   "metadata": {
    "collapsed": false,
    "ExecuteTime": {
     "start_time": "2023-10-15T12:49:02.789765Z"
    }
   }
  }
 ],
 "metadata": {
  "kernelspec": {
   "display_name": "Python 3",
   "language": "python",
   "name": "python3"
  },
  "language_info": {
   "codemirror_mode": {
    "name": "ipython",
    "version": 2
   },
   "file_extension": ".py",
   "mimetype": "text/x-python",
   "name": "python",
   "nbconvert_exporter": "python",
   "pygments_lexer": "ipython2",
   "version": "2.7.6"
  }
 },
 "nbformat": 4,
 "nbformat_minor": 0
}
