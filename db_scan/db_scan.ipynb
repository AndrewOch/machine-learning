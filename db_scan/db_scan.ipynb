{
 "cells": [
  {
   "cell_type": "code",
   "execution_count": 1,
   "metadata": {
    "collapsed": true,
    "ExecuteTime": {
     "end_time": "2023-10-16T09:52:44.390505Z",
     "start_time": "2023-10-16T09:52:42.795804Z"
    }
   },
   "outputs": [
    {
     "name": "stdout",
     "output_type": "stream",
     "text": [
      "pygame 2.5.2 (SDL 2.28.3, Python 3.9.6)\n",
      "Hello from the pygame community. https://www.pygame.org/contribute.html\n"
     ]
    }
   ],
   "source": [
    "import pygame\n",
    "import numpy as np\n",
    "from point import Point"
   ]
  },
  {
   "cell_type": "code",
   "execution_count": 2,
   "outputs": [],
   "source": [
    "def count_clusters(points):\n",
    "    clusters = set()\n",
    "    for p in points:\n",
    "        if p.cluster is not None:\n",
    "            clusters.add(p.cluster)\n",
    "    return len(clusters)"
   ],
   "metadata": {
    "collapsed": false,
    "ExecuteTime": {
     "end_time": "2023-10-16T09:52:44.392833Z",
     "start_time": "2023-10-16T09:52:44.384917Z"
    }
   }
  },
  {
   "cell_type": "code",
   "execution_count": 3,
   "outputs": [],
   "source": [
    "def redraw(points):\n",
    "    for p in points:\n",
    "        if p.cluster is not None:\n",
    "            color = [100 * (p.cluster + 1) % 256,\n",
    "                     200 * (p.cluster + 1) % 256,\n",
    "                     300 * (p.cluster + 1) % 256]\n",
    "            pygame.draw.circle(screen, color=color, center=[p.x, p.y], radius=2)\n",
    "        else:\n",
    "            pygame.draw.circle(screen, color=\"#000000\", center=[p.x, p.y], radius=2)\n",
    "    pygame.display.set_caption(f'Cluster count: {count_clusters(points)}')\n",
    "    pygame.display.update()\n",
    "\n",
    "\n",
    "def redraw_debug(green_points, yellow_points, noise):\n",
    "    for p in green_points:\n",
    "        pygame.draw.circle(screen, color=\"#00FF00\", center=[p.x, p.y], radius=2)\n",
    "    for p in yellow_points:\n",
    "        pygame.draw.circle(screen, color=\"yellow\", center=[p.x, p.y], radius=2)\n",
    "    for p in noise:\n",
    "        pygame.draw.circle(screen, color=\"#FF0000\", center=[p.x, p.y], radius=2)\n",
    "    pygame.display.set_caption(f'Cluster count: {count_clusters(points)}')\n",
    "    pygame.display.update()"
   ],
   "metadata": {
    "collapsed": false,
    "ExecuteTime": {
     "end_time": "2023-10-16T09:52:44.401158Z",
     "start_time": "2023-10-16T09:52:44.390107Z"
    }
   }
  },
  {
   "cell_type": "code",
   "execution_count": 4,
   "outputs": [],
   "source": [
    "def dist(a, b):\n",
    "    return np.sqrt((a.x - b.x) ** 2 + (a.y - b.y) ** 2)"
   ],
   "metadata": {
    "collapsed": false,
    "ExecuteTime": {
     "end_time": "2023-10-16T09:52:44.420665Z",
     "start_time": "2023-10-16T09:52:44.399523Z"
    }
   }
  },
  {
   "cell_type": "code",
   "execution_count": 5,
   "outputs": [],
   "source": [
    "def clear_clusters(points):\n",
    "    for p in points:\n",
    "        p.cluster = None\n",
    "    return points"
   ],
   "metadata": {
    "collapsed": false,
    "ExecuteTime": {
     "end_time": "2023-10-16T09:52:44.431034Z",
     "start_time": "2023-10-16T09:52:44.406550Z"
    }
   }
  },
  {
   "cell_type": "code",
   "execution_count": 6,
   "outputs": [],
   "source": [
    "def find_neighbours(origin, points, epsilon=20):\n",
    "    neighbours = set()\n",
    "    for b in points:\n",
    "        if dist(origin, b) <= epsilon:\n",
    "            neighbours.add(b)\n",
    "    return neighbours"
   ],
   "metadata": {
    "collapsed": false,
    "ExecuteTime": {
     "end_time": "2023-10-16T09:52:44.431469Z",
     "start_time": "2023-10-16T09:52:44.411569Z"
    }
   }
  },
  {
   "cell_type": "code",
   "execution_count": 7,
   "outputs": [],
   "source": [
    "def dbscan(points, min_neighbours_count=3, epsilon=20, draw_debug=False):\n",
    "    clusters_count = 0\n",
    "    checked_points = []\n",
    "    searchable_points = clear_clusters(points).copy()\n",
    "    green_points = []\n",
    "    yellow_points = []\n",
    "    noise = []\n",
    "    while len(searchable_points) > 0:\n",
    "        point = searchable_points[0]\n",
    "        searchable_points.remove(point)\n",
    "        checked_points.append(point)\n",
    "        neighbours = find_neighbours(point, points, epsilon)\n",
    "        if len(neighbours) <= 1:\n",
    "            noise.append(point)\n",
    "            continue\n",
    "        if len(neighbours) >= min_neighbours_count:\n",
    "            point.cluster = clusters_count\n",
    "            clusters_count += 1\n",
    "            green_points.append(point)\n",
    "            checked_neighbours = set()\n",
    "            checked_neighbours.add(point)\n",
    "            while len(neighbours) > 0:\n",
    "                n = neighbours.pop()\n",
    "                checked_neighbours.add(n)\n",
    "                if searchable_points.__contains__(n):\n",
    "                    checked_points.append(n)\n",
    "                    searchable_points.remove(n)\n",
    "                n.cluster = point.cluster\n",
    "                new_neighbours = find_neighbours(n, points, epsilon)\n",
    "                neighbours |= new_neighbours.difference(checked_neighbours)\n",
    "                if len(new_neighbours) >= min_neighbours_count:\n",
    "                    green_points.append(n)\n",
    "                else:\n",
    "                    yellow_points.append(n)\n",
    "        else:\n",
    "            yellow_points.append(point)\n",
    "    for a in yellow_points:\n",
    "        if a.cluster is not None:\n",
    "            continue\n",
    "        for b in green_points:\n",
    "            if dist(a, b) <= epsilon:\n",
    "                a.cluster = b.cluster\n",
    "                break\n",
    "        if a.cluster is None:\n",
    "            yellow_points.remove(a)\n",
    "            noise.append(a)\n",
    "    if draw_debug:\n",
    "        redraw_debug(green_points, yellow_points, noise)\n",
    "    else:\n",
    "        redraw(checked_points)\n",
    "    return checked_points"
   ],
   "metadata": {
    "collapsed": false,
    "ExecuteTime": {
     "end_time": "2023-10-16T09:52:44.432078Z",
     "start_time": "2023-10-16T09:52:44.422097Z"
    }
   }
  },
  {
   "cell_type": "code",
   "execution_count": 8,
   "outputs": [],
   "source": [
    "pygame.init()\n",
    "screen = pygame.display.set_mode((600, 400))\n",
    "flag = True\n",
    "screen.fill(color=\"#ffffff\")\n",
    "pygame.display.update()\n",
    "drawing = False\n",
    "points = []\n",
    "while flag:\n",
    "    for event in pygame.event.get():\n",
    "        if event.type == pygame.QUIT:\n",
    "            flag = False\n",
    "            break\n",
    "        if event.type == pygame.KEYDOWN:\n",
    "            if event.key == 13:\n",
    "                points = dbscan(points)\n",
    "            if event.key == pygame.K_SPACE:\n",
    "                points = dbscan(points, draw_debug=True)\n",
    "        if event.type == pygame.MOUSEBUTTONDOWN:\n",
    "            if event.button == 1:\n",
    "                drawing = True\n",
    "        if event.type == pygame.MOUSEBUTTONUP:\n",
    "            if event.button == 1:\n",
    "                drawing = False\n",
    "        if drawing:\n",
    "            coords = event.pos\n",
    "            points.append(Point(coords[0], coords[1]))\n",
    "            pygame.draw.circle(screen, color=\"#000000\", center=coords, radius=2)\n",
    "            pygame.display.update()"
   ],
   "metadata": {
    "collapsed": false,
    "ExecuteTime": {
     "end_time": "2023-10-16T09:57:17.627519Z",
     "start_time": "2023-10-16T09:52:44.431704Z"
    }
   }
  }
 ],
 "metadata": {
  "kernelspec": {
   "display_name": "Python 3",
   "language": "python",
   "name": "python3"
  },
  "language_info": {
   "codemirror_mode": {
    "name": "ipython",
    "version": 2
   },
   "file_extension": ".py",
   "mimetype": "text/x-python",
   "name": "python",
   "nbconvert_exporter": "python",
   "pygments_lexer": "ipython2",
   "version": "2.7.6"
  }
 },
 "nbformat": 4,
 "nbformat_minor": 0
}
