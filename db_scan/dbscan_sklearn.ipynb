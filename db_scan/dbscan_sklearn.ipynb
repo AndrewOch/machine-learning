{
 "cells": [
  {
   "cell_type": "code",
   "execution_count": 1,
   "metadata": {
    "collapsed": true,
    "ExecuteTime": {
     "end_time": "2023-10-15T08:32:04.546302Z",
     "start_time": "2023-10-15T08:32:01.347465Z"
    }
   },
   "outputs": [
    {
     "name": "stdout",
     "output_type": "stream",
     "text": [
      "pygame 2.5.2 (SDL 2.28.3, Python 3.9.6)\n",
      "Hello from the pygame community. https://www.pygame.org/contribute.html\n"
     ]
    }
   ],
   "source": [
    "import pygame\n",
    "from sklearn.cluster import DBSCAN"
   ]
  },
  {
   "cell_type": "code",
   "execution_count": 2,
   "outputs": [],
   "source": [
    "def dbscan(points):\n",
    "    radius = 30\n",
    "    neighbours = 5\n",
    "    dbscan = DBSCAN(radius, min_samples=neighbours)\n",
    "    dbscan.fit(points)\n",
    "    clusters = dbscan.labels_\n",
    "    print(clusters)\n",
    "    return clusters"
   ],
   "metadata": {
    "collapsed": false,
    "ExecuteTime": {
     "end_time": "2023-10-15T08:32:04.554755Z",
     "start_time": "2023-10-15T08:32:04.550878Z"
    }
   }
  },
  {
   "cell_type": "code",
   "execution_count": 3,
   "outputs": [
    {
     "name": "stdout",
     "output_type": "stream",
     "text": [
      "[ 0  0  0  0  0  0  0  0 -1 -1 -1 -1 -1 -1 -1 -1 -1 -1 -1 -1 -1 -1 -1 -1\n",
      " -1  0  0 -1  0  0 -1 -1 -1 -1 -1 -1 -1 -1 -1 -1 -1 -1 -1 -1 -1 -1 -1  1\n",
      "  1  1  1  1  1  1 -1 -1 -1]\n"
     ]
    },
    {
     "ename": "AttributeError",
     "evalue": "'numpy.ndarray' object has no attribute 'append'",
     "output_type": "error",
     "traceback": [
      "\u001B[0;31m---------------------------------------------------------------------------\u001B[0m",
      "\u001B[0;31mAttributeError\u001B[0m                            Traceback (most recent call last)",
      "Cell \u001B[0;32mIn[3], line 27\u001B[0m\n\u001B[1;32m     25\u001B[0m     coords \u001B[38;5;241m=\u001B[39m event\u001B[38;5;241m.\u001B[39mpos\n\u001B[1;32m     26\u001B[0m     points\u001B[38;5;241m.\u001B[39mappend(coords)\n\u001B[0;32m---> 27\u001B[0m     \u001B[43mclusters\u001B[49m\u001B[38;5;241;43m.\u001B[39;49m\u001B[43mappend\u001B[49m(\u001B[38;5;241m-\u001B[39m\u001B[38;5;241m1\u001B[39m)\n\u001B[1;32m     28\u001B[0m \u001B[38;5;28;01mfor\u001B[39;00m i \u001B[38;5;129;01min\u001B[39;00m \u001B[38;5;28mrange\u001B[39m(\u001B[38;5;28mlen\u001B[39m(points)):\n\u001B[1;32m     29\u001B[0m     color \u001B[38;5;241m=\u001B[39m [\u001B[38;5;241m100\u001B[39m \u001B[38;5;241m*\u001B[39m (clusters[i]\u001B[38;5;241m+\u001B[39m\u001B[38;5;241m1\u001B[39m) \u001B[38;5;241m%\u001B[39m \u001B[38;5;241m256\u001B[39m,\n\u001B[1;32m     30\u001B[0m              \u001B[38;5;241m200\u001B[39m \u001B[38;5;241m*\u001B[39m (clusters[i]\u001B[38;5;241m+\u001B[39m\u001B[38;5;241m1\u001B[39m) \u001B[38;5;241m%\u001B[39m \u001B[38;5;241m256\u001B[39m,\n\u001B[1;32m     31\u001B[0m              \u001B[38;5;241m300\u001B[39m \u001B[38;5;241m*\u001B[39m (clusters[i]\u001B[38;5;241m+\u001B[39m\u001B[38;5;241m1\u001B[39m) \u001B[38;5;241m%\u001B[39m \u001B[38;5;241m256\u001B[39m]\n",
      "\u001B[0;31mAttributeError\u001B[0m: 'numpy.ndarray' object has no attribute 'append'"
     ]
    }
   ],
   "source": [
    "pygame.init()\n",
    "screen = pygame.display.set_mode((600, 400))\n",
    "flag = True\n",
    "screen.fill(color=\"#ffffff\")\n",
    "pygame.display.update()\n",
    "drawing = False\n",
    "points = []\n",
    "clusters = []\n",
    "while flag:\n",
    "    for event in pygame.event.get():\n",
    "        if event.type == pygame.QUIT:\n",
    "            flag = False\n",
    "            break\n",
    "        if event.type == pygame.KEYDOWN:\n",
    "            if event.key == 13:\n",
    "                clusters = dbscan(points=points)\n",
    "                pygame.display.update()\n",
    "        if event.type == pygame.MOUSEBUTTONDOWN:\n",
    "            if event.button == 1:\n",
    "                drawing = True\n",
    "        if event.type == pygame.MOUSEBUTTONUP:\n",
    "            if event.button == 1:\n",
    "                drawing = False\n",
    "        if drawing:\n",
    "            coords = event.pos\n",
    "            points.append(coords)\n",
    "            clusters.append(-1)\n",
    "        for i in range(len(points)):\n",
    "            color = [100 * (clusters[i]+1) % 256,\n",
    "                     200 * (clusters[i]+1) % 256,\n",
    "                     300 * (clusters[i]+1) % 256]\n",
    "            pygame.draw.circle(screen, color=color, center=points[i], radius=2)\n",
    "            pygame.display.update()"
   ],
   "metadata": {
    "collapsed": false,
    "ExecuteTime": {
     "end_time": "2023-10-15T08:32:27.377882Z",
     "start_time": "2023-10-15T08:32:04.555631Z"
    }
   }
  }
 ],
 "metadata": {
  "kernelspec": {
   "display_name": "Python 3",
   "language": "python",
   "name": "python3"
  },
  "language_info": {
   "codemirror_mode": {
    "name": "ipython",
    "version": 2
   },
   "file_extension": ".py",
   "mimetype": "text/x-python",
   "name": "python",
   "nbconvert_exporter": "python",
   "pygments_lexer": "ipython2",
   "version": "2.7.6"
  }
 },
 "nbformat": 4,
 "nbformat_minor": 0
}
