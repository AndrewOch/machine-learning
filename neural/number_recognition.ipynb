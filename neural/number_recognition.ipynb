{
 "cells": [
  {
   "cell_type": "code",
   "execution_count": null,
   "id": "initial_id",
   "metadata": {
    "collapsed": true,
    "is_executing": true
   },
   "outputs": [],
   "source": [
    "import sys\n",
    "import keras\n",
    "import pygame\n",
    "import numpy as np\n",
    "from PIL import Image"
   ]
  },
  {
   "cell_type": "code",
   "execution_count": null,
   "outputs": [],
   "source": [
    "model = keras.models.load_model('digit_recognition_model.h5')\n",
    "\n",
    "def recognize_number(screen):\n",
    "    raw_str = pygame.image.tostring(screen, 'RGBA', False)\n",
    "    image = Image.frombytes('RGBA', (width, height), raw_str)\n",
    "    image = image.convert('L')\n",
    "    segments = segment_image(image)\n",
    "    number = ''\n",
    "    for segment in segments:\n",
    "        segment = segment.resize((28, 28), Image.Resampling.LANCZOS)\n",
    "        segment_array = np.array(segment).reshape(1, 28, 28, 1) / 255.0\n",
    "        prediction = model.predict(segment_array)\n",
    "        predicted_digit = np.argmax(prediction)\n",
    "        if predicted_digit == 10:\n",
    "            predicted_digit = '-'\n",
    "        number += str(predicted_digit)\n",
    "    print(f\"Распознанное число: {number}\")\n",
    "    return number\n",
    "\n",
    "\n",
    "def segment_image(image):\n",
    "    segment_width = 196\n",
    "    segments = []\n",
    "    for i in range(5):\n",
    "        left = i * segment_width\n",
    "        right = left + segment_width\n",
    "        segment = image.crop((left, 0, right, image.height))\n",
    "        segments.append(segment)\n",
    "    return segments"
   ],
   "metadata": {
    "collapsed": false,
    "is_executing": true
   },
   "id": "1850d6b7189470fc"
  },
  {
   "cell_type": "code",
   "execution_count": null,
   "outputs": [],
   "source": [
    "pygame.init()\n",
    "\n",
    "width, height = 980, 196\n",
    "screen = pygame.display.set_mode((width, height))\n",
    "pygame.display.set_caption(\"Рисование чисел\")\n",
    "\n",
    "\n",
    "def clear_screen():\n",
    "    screen.fill((0, 0, 0))\n",
    "    for x in range(0, width, height):\n",
    "        pygame.draw.line(screen, (128, 128, 128), (x, 0), (x, height))\n",
    "\n",
    "drawing = False\n",
    "last_pos = None\n",
    "color = (255, 255, 255)\n",
    "radius = 4\n",
    "clear_screen()\n",
    "\n",
    "def draw_line(screen, start_pos, end_pos, color, radius):\n",
    "    x1, y1 = start_pos\n",
    "    x2, y2 = end_pos\n",
    "    dx = x2 - x1\n",
    "    dy = y2 - y1\n",
    "    distance = max(abs(dx), abs(dy))\n",
    "    for i in range(distance):\n",
    "        x = int(x1 + float(i) / distance * dx)\n",
    "        y = int(y1 + float(i) / distance * dy)\n",
    "        pygame.draw.circle(screen, color, (x, y), radius)\n",
    "\n",
    "while True:\n",
    "    for event in pygame.event.get():\n",
    "        if event.type == pygame.QUIT:\n",
    "            pygame.quit()\n",
    "            sys.exit()\n",
    "\n",
    "        if event.type == pygame.MOUSEBUTTONDOWN:\n",
    "            drawing = True\n",
    "            last_pos = event.pos\n",
    "\n",
    "        if event.type == pygame.MOUSEBUTTONUP:\n",
    "            drawing = False\n",
    "\n",
    "        if event.type == pygame.MOUSEMOTION:\n",
    "            if drawing:\n",
    "                mouse_pos = event.pos\n",
    "                draw_line(screen, last_pos, mouse_pos, color, radius)\n",
    "                last_pos = mouse_pos\n",
    "\n",
    "        if event.type == pygame.KEYDOWN:\n",
    "            if event.key == pygame.K_SPACE:\n",
    "                number = recognize_number(screen)\n",
    "                pygame.display.set_caption(number)\n",
    "            elif event.key == pygame.K_BACKSPACE:\n",
    "                clear_screen()\n",
    "\n",
    "    pygame.display.flip()\n"
   ],
   "metadata": {
    "collapsed": false,
    "is_executing": true
   },
   "id": "d14465b03d9c9c73"
  }
 ],
 "metadata": {
  "kernelspec": {
   "display_name": "Python 3",
   "language": "python",
   "name": "python3"
  },
  "language_info": {
   "codemirror_mode": {
    "name": "ipython",
    "version": 2
   },
   "file_extension": ".py",
   "mimetype": "text/x-python",
   "name": "python",
   "nbconvert_exporter": "python",
   "pygments_lexer": "ipython2",
   "version": "2.7.6"
  }
 },
 "nbformat": 4,
 "nbformat_minor": 5
}
