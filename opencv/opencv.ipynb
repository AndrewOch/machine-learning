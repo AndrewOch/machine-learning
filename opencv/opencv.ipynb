{
 "cells": [
  {
   "cell_type": "code",
   "execution_count": 1,
   "id": "initial_id",
   "metadata": {
    "collapsed": true,
    "ExecuteTime": {
     "end_time": "2023-12-24T21:28:32.384057Z",
     "start_time": "2023-12-24T21:28:32.127161Z"
    }
   },
   "outputs": [],
   "source": [
    "import cv2\n",
    "import os\n",
    "import numpy as np\n",
    "\n",
    "def prepare_training_data(data_folder_path):\n",
    "    image_files = os.listdir(data_folder_path)\n",
    "    faces = []\n",
    "    labels = []\n",
    "    label = 1\n",
    "    for image_name in image_files:\n",
    "        if image_name.startswith(\".\"):\n",
    "            continue\n",
    "\n",
    "        image_path = os.path.join(data_folder_path, image_name)\n",
    "        image = cv2.imread(image_path)\n",
    "        gray = cv2.cvtColor(image, cv2.COLOR_BGR2GRAY)\n",
    "        \n",
    "        faces.append(gray)\n",
    "        labels.append(label)\n",
    "    return faces, labels"
   ]
  },
  {
   "cell_type": "code",
   "execution_count": 2,
   "outputs": [],
   "source": [
    "def detect_and_display(frame, face_recognizer):\n",
    "    gray = cv2.cvtColor(frame, cv2.COLOR_BGR2GRAY)\n",
    "    faces = face_cascade.detectMultiScale(gray, 1.1, 4)\n",
    "\n",
    "    for (x, y, w, h) in faces:\n",
    "        cv2.rectangle(frame, (x, y), (x+w, y+h), (255, 0, 0), 2)\n",
    "        \n",
    "        face = gray[y:y+h, x:x+w]\n",
    "        label, confidence = face_recognizer.predict(face)\n",
    "\n",
    "        confidence_threshold = 70\n",
    "        label_text = \"Unknown\"\n",
    "        if label == 1 and confidence < confidence_threshold:\n",
    "            label_text = f\"Andrey\"\n",
    "\n",
    "        cv2.putText(frame, label_text, (x, y - 10), cv2.FONT_HERSHEY_SIMPLEX, 0.5, (255, 0, 0), 2, cv2.LINE_AA)\n",
    "\n",
    "    cv2.imshow('Video', frame)\n"
   ],
   "metadata": {
    "collapsed": false,
    "ExecuteTime": {
     "end_time": "2023-12-24T21:28:32.394504Z",
     "start_time": "2023-12-24T21:28:32.392122Z"
    }
   },
   "id": "3c2898cb01a9ba1a"
  },
  {
   "cell_type": "code",
   "execution_count": null,
   "outputs": [],
   "source": [
    "face_cascade = cv2.CascadeClassifier(cv2.data.haarcascades + 'haarcascade_frontalface_default.xml')\n",
    "if face_cascade.empty():\n",
    "    print(\"Ошибка загрузки модели Haar Cascade для обнаружения лиц\")\n",
    "    exit()\n",
    "\n",
    "faces, labels = prepare_training_data(\"face_data\")\n",
    "face_recognizer = cv2.face.LBPHFaceRecognizer_create()\n",
    "face_recognizer.train(faces, np.array(labels))\n",
    "\n",
    "video_capture = cv2.VideoCapture(0)\n",
    "if not video_capture.isOpened():\n",
    "    print(\"Не удалось открыть веб-камеру\")\n",
    "    exit()\n",
    "\n",
    "while True:\n",
    "    ret, frame = video_capture.read()\n",
    "    if not ret:\n",
    "        break\n",
    "\n",
    "    detect_and_display(frame, face_recognizer)\n",
    "\n",
    "    if cv2.waitKey(1) & 0xFF == ord('q'):\n",
    "        break\n",
    "\n",
    "video_capture.release()\n",
    "cv2.destroyAllWindows()"
   ],
   "metadata": {
    "collapsed": false,
    "ExecuteTime": {
     "start_time": "2023-12-24T21:28:32.399656Z"
    }
   },
   "id": "7ee5a10d4b8677cb"
  }
 ],
 "metadata": {
  "kernelspec": {
   "display_name": "Python 3",
   "language": "python",
   "name": "python3"
  },
  "language_info": {
   "codemirror_mode": {
    "name": "ipython",
    "version": 2
   },
   "file_extension": ".py",
   "mimetype": "text/x-python",
   "name": "python",
   "nbconvert_exporter": "python",
   "pygments_lexer": "ipython2",
   "version": "2.7.6"
  }
 },
 "nbformat": 4,
 "nbformat_minor": 5
}
